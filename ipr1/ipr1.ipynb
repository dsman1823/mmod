{
 "cells": [
  {
   "cell_type": "markdown",
   "metadata": {},
   "source": [
    "### ЗАДАНИЕ\n",
    "1. Написать программу, реализующую метод формирования двумерной случайной величины.\n",
    "2. Выполнить статистическое исследование полученной величины(построение эмпирической матрицы распределения, гистограммы составляющих вектора, вычисление точечных, интервальных оценок, коэффициент корреляции)\n",
    "3. Проверить гипотезы о соответствии полученных оценок характеристик случайной величины требуемым"
   ]
  },
  {
   "cell_type": "code",
   "execution_count": 1,
   "metadata": {},
   "outputs": [],
   "source": [
    "import numpy as np\n",
    "import pandas as pd\n",
    "from matplotlib import pyplot as plt\n",
    "from matplotlib.pyplot import figure\n",
    "\n",
    "seed = 1\n",
    "np.random.seed(1)\n",
    "uni = np.random.uniform\n",
    "N = 10**4"
   ]
  },
  {
   "cell_type": "markdown",
   "metadata": {},
   "source": [
    "#### 1. Написать программу, реализующую метод формирования двумерной случайной величины."
   ]
  },
  {
   "cell_type": "markdown",
   "metadata": {},
   "source": [
    "Для начала сформируем матрицу вероятностей для исходного двумерного вектора $(X, Y)$."
   ]
  },
  {
   "cell_type": "code",
   "execution_count": 2,
   "metadata": {},
   "outputs": [],
   "source": [
    "prob_mtrx = np.array([\n",
    "    [.01, .02, .3],\n",
    "    [.2,  .02, .1],\n",
    "    [.2,  .05, .1]\n",
    "])"
   ]
  },
  {
   "cell_type": "markdown",
   "metadata": {},
   "source": [
    "Проверим: является ли prob_mtrx стохастической матрицей"
   ]
  },
  {
   "cell_type": "code",
   "execution_count": 3,
   "metadata": {},
   "outputs": [
    {
     "data": {
      "text/plain": [
       "1.0"
      ]
     },
     "execution_count": 3,
     "metadata": {},
     "output_type": "execute_result"
    }
   ],
   "source": [
    "sum(sum(prob_mtrx))"
   ]
  },
  {
   "cell_type": "markdown",
   "metadata": {},
   "source": [
    "Функция для генерации величины $X$(строки)"
   ]
  },
  {
   "cell_type": "code",
   "execution_count": 4,
   "metadata": {},
   "outputs": [],
   "source": [
    "def generate_X():\n",
    "    q = np.array([sum(row) for row in prob_mtrx])\n",
    "    l = np.array([sum(q[:i]) for i in range(len(q))])\n",
    "    cdf_X = l\n",
    "    return np.argmax(l[l < uni()])"
   ]
  },
  {
   "cell_type": "markdown",
   "metadata": {},
   "source": [
    "Функция для генерации $Y\\mid X=x$"
   ]
  },
  {
   "cell_type": "code",
   "execution_count": 5,
   "metadata": {},
   "outputs": [],
   "source": [
    "def generate_Y_x(x):\n",
    "    r = np.array([sum(prob_mtrx[x, :i]) for i in range(prob_mtrx.shape[1])]) / sum(prob_mtrx[x, :])\n",
    "    \n",
    "    return np.argmax(r[r < uni()])"
   ]
  },
  {
   "cell_type": "markdown",
   "metadata": {},
   "source": [
    "Функция генерация $(X, Y)$"
   ]
  },
  {
   "cell_type": "code",
   "execution_count": 6,
   "metadata": {},
   "outputs": [],
   "source": [
    "def generate_X_Y():\n",
    "    x = generate_X()\n",
    "    y = generate_Y_x(x)\n",
    "    return (x, y)"
   ]
  },
  {
   "cell_type": "markdown",
   "metadata": {},
   "source": [
    "#### 2. Выполнить статистическое исследование полученной величины(построение эмпирической матрицы распределения, гистограммы составляющих вектора, вычисление точечных, интервальных оценок, коэффициент корреляции)"
   ]
  },
  {
   "cell_type": "markdown",
   "metadata": {},
   "source": [
    "Сгенерируем выборку $(X, Y)$ размера $N$"
   ]
  },
  {
   "cell_type": "code",
   "execution_count": 7,
   "metadata": {},
   "outputs": [],
   "source": [
    "sample = np.array([generate_X_Y() for _ in range(N)])\n",
    "sample_X = sample[:, 0] \n",
    "sample_Y = sample[:, 1]"
   ]
  },
  {
   "cell_type": "markdown",
   "metadata": {},
   "source": [
    "**Построим эмпирическую матрицу распределения**"
   ]
  },
  {
   "cell_type": "code",
   "execution_count": 8,
   "metadata": {},
   "outputs": [],
   "source": [
    "def sample_i_j_frequency(i, j, sample):\n",
    "    amount = 0\n",
    "    for row in sample:\n",
    "        if (row[0], row[1]) == (i, j):\n",
    "            amount += 1\n",
    "    return amount / len(sample)"
   ]
  },
  {
   "cell_type": "code",
   "execution_count": 9,
   "metadata": {
    "scrolled": false
   },
   "outputs": [],
   "source": [
    "nrows, ncols  = prob_mtrx.shape\n",
    "mtrx = []\n",
    "for i in range(nrows):\n",
    "    mtrx.append([])\n",
    "    for j in range(ncols):\n",
    "        mtrx[i].append(sample_i_j_frequency(i, j, sample))\n",
    "mtrx = np.array(mtrx)"
   ]
  },
  {
   "cell_type": "code",
   "execution_count": 10,
   "metadata": {},
   "outputs": [
    {
     "data": {
      "text/plain": [
       "1.0"
      ]
     },
     "execution_count": 10,
     "metadata": {},
     "output_type": "execute_result"
    }
   ],
   "source": [
    "sum(sum(mtrx))"
   ]
  },
  {
   "cell_type": "code",
   "execution_count": 11,
   "metadata": {
    "scrolled": true
   },
   "outputs": [
    {
     "data": {
      "text/plain": [
       "array([[0.0111, 0.0198, 0.2954],\n",
       "       [0.2   , 0.0197, 0.1008],\n",
       "       [0.1993, 0.0504, 0.1035]])"
      ]
     },
     "execution_count": 11,
     "metadata": {},
     "output_type": "execute_result"
    }
   ],
   "source": [
    "mtrx"
   ]
  },
  {
   "cell_type": "markdown",
   "metadata": {},
   "source": [
    "**Построим гистограммы составляющих вектора**"
   ]
  },
  {
   "cell_type": "code",
   "execution_count": 12,
   "metadata": {},
   "outputs": [
    {
     "data": {
      "image/png": "[encoded data removed]",
      "text/plain": [
       "<Figure size 432x288 with 1 Axes>"
      ]
     },
     "metadata": {
      "needs_background": "light"
     },
     "output_type": "display_data"
    }
   ],
   "source": [
    "plt.hist(sample_X, bins=3, edgecolor='black', linewidth=1.2, label='X empirical')\n",
    "plt.legend()\n",
    "plt.show()"
   ]
  },
  {
   "cell_type": "code",
   "execution_count": 13,
   "metadata": {},
   "outputs": [
    {
     "data": {
      "image/png": "[encoded data removed]",
      "text/plain": [
       "<Figure size 432x288 with 1 Axes>"
      ]
     },
     "metadata": {
      "needs_background": "light"
     },
     "output_type": "display_data"
    }
   ],
   "source": [
    "plt.hist(sample_Y, bins=3, edgecolor='black', linewidth=1.2, label='Y empirical', color='red')\n",
    "plt.legend()\n",
    "plt.show()"
   ]
  },
  {
   "cell_type": "markdown",
   "metadata": {},
   "source": [
    "**Сделаем точечные и интервальные оценки**"
   ]
  },
  {
   "cell_type": "markdown",
   "metadata": {},
   "source": [
    "Точечные оценки"
   ]
  },
  {
   "cell_type": "code",
   "execution_count": 14,
   "metadata": {},
   "outputs": [
    {
     "name": "stdout",
     "output_type": "stream",
     "text": [
      "Точечная оценка EX: 1.0269\n",
      "Точечная оценка Var(X): 0.6787763900000001\n",
      "Точечная оценка EY: 1.0893\n",
      "Точечная оценка Var(Y): 0.9021255099999999\n"
     ]
    }
   ],
   "source": [
    "print(f'Точечная оценка EX: {sample_X.mean()}')\n",
    "print(f'Точечная оценка Var(X): {sample_X.var()}')\n",
    "print(f'Точечная оценка EY: {sample_Y.mean()}')\n",
    "print(f'Точечная оценка Var(Y): {sample_Y.var()}')"
   ]
  },
  {
   "cell_type": "markdown",
   "metadata": {},
   "source": [
    "Интервальные оценки\n",
    "\n",
    "Т.к. размеры выборки большие, а дисперсии исходных распределений ограничены мы можем применить закон больших чисел и предположить, что матожидания исходных СВ распределены нормально"
   ]
  },
  {
   "cell_type": "code",
   "execution_count": 15,
   "metadata": {},
   "outputs": [
    {
     "name": "stdout",
     "output_type": "stream",
     "text": [
      "95% confidence interval for X: (1.010751463453684, 1.0430485365463158)\n",
      "95% confidence interval for Y: (1.0706832747771775, 1.1079167252228224)\n"
     ]
    }
   ],
   "source": [
    "import scipy.stats as st\n",
    "\n",
    "print(f'95% confidence interval for X: {st.norm.interval(0.95, loc=np.mean(sample_X), scale=st.sem(sample_X))}')\n",
    "print(f'95% confidence interval for Y: {st.norm.interval(0.95, loc=np.mean(sample_Y), scale=st.sem(sample_Y))}')"
   ]
  },
  {
   "cell_type": "markdown",
   "metadata": {},
   "source": [
    "**Оцениним коэффициент корреляции**\n",
    "\n",
    "Построим матрицу корреляции $ Corr(X, Y) $"
   ]
  },
  {
   "cell_type": "code",
   "execution_count": 16,
   "metadata": {},
   "outputs": [
    {
     "name": "stdout",
     "output_type": "stream",
     "text": [
      "Corr(X, Y): \n",
      " [[ 1.        -0.4888066]\n",
      " [-0.4888066  1.       ]]\n"
     ]
    }
   ],
   "source": [
    "print(f'Corr(X, Y): \\n {np.corrcoef(sample_X, sample_Y)}')"
   ]
  },
  {
   "cell_type": "markdown",
   "metadata": {},
   "source": [
    "#### Проверить гипотезы о соответствии полученных оценок характеристик случайной величины требуемым"
   ]
  },
  {
   "cell_type": "markdown",
   "metadata": {},
   "source": [
    "Для начала получим хар-ки исходных $X_{real}, Y_{real}$"
   ]
  },
  {
   "cell_type": "code",
   "execution_count": 37,
   "metadata": {},
   "outputs": [
    {
     "name": "stdout",
     "output_type": "stream",
     "text": [
      "Исходная EX: 1.0269\n",
      "Исходная Var(X): 0.6787763900000001\n",
      "Исходная EY: 1.0893\n",
      "Исходная Var(Y): 0.9021255099999999\n"
     ]
    }
   ],
   "source": [
    "n_values = 3\n",
    "prob_X = [sum(prob_mtrx[i, :]) for i in range(3)]\n",
    "prob_Y = [sum(prob_mtrx[:, i]) for i in range(3)]\n",
    "mean_X = sum([i * prob_X[i] for i in range(3)])\n",
    "mean_Y = sum([i * prob_Y[i] for i in range(3)])\n",
    "var_X  = sum([(i - mean_X)**2 * prob_X[i] for i in range(3)])\n",
    "var_Y  = sum([(i - mean_Y)**2 * prob_X[i] for i in range(3)])\n",
    "print(f'Исходная EX: {sample_X.mean()}')\n",
    "print(f'Исходная Var(X): {sample_X.var()}')\n",
    "print(f'Исходная EY: {sample_Y.mean()}')\n",
    "print(f'Исходная Var(Y): {sample_Y.var()}')"
   ]
  },
  {
   "cell_type": "markdown",
   "metadata": {},
   "source": [
    "Проверим гипотезы о соответсвии матожиданий\n",
    "\n",
    "Т.к. $X_{sample}\\sim Bin(p_{X}, n)\\wedge Y_{sample}\\sim Bin(p_{Y}, n)$  и lim_{n \\to \\infty }Bin(n, p)=N(np, pq), а в нашем случае n достаточно велико, мы може воспользоваться z-statistic для проверки гипотезы"
   ]
  },
  {
   "cell_type": "markdown",
   "metadata": {},
   "source": [
    "**Проверим гипотезу о разенстве $EX_{sample}$ и $EX_{real}$**\n",
    "\n",
    "С ${H_0}: EX_{sample}=EX_{real}$"
   ]
  },
  {
   "cell_type": "code",
   "execution_count": 63,
   "metadata": {},
   "outputs": [],
   "source": [
    "import pandas as pd\n",
    "from scipy import stats\n",
    "from statsmodels.stats import weightstats as stests"
   ]
  },
  {
   "cell_type": "code",
   "execution_count": 64,
   "metadata": {},
   "outputs": [
    {
     "name": "stdout",
     "output_type": "stream",
     "text": [
      "p-value: 0.4023341188083658\n",
      "accept null hypothesis\n"
     ]
    }
   ],
   "source": [
    "ztest ,pval = stests.ztest(sample_X, x2=None, value=mean_X)\n",
    "print(f'p-value: {float(pval)}')\n",
    "if pval<0.05:\n",
    "    print(\"reject null hypothesis\")\n",
    "else:\n",
    "    print(\"accept null hypothesis\")"
   ]
  },
  {
   "cell_type": "markdown",
   "metadata": {},
   "source": [
    "**Проверим гипотезу о разенстве $EY_{sample}$ и $EY_{real}$**\n",
    "\n",
    "С ${H_0}: EY_{sample}=EY_{real}$"
   ]
  },
  {
   "cell_type": "code",
   "execution_count": 65,
   "metadata": {},
   "outputs": [
    {
     "name": "stdout",
     "output_type": "stream",
     "text": [
      "p-value: 0.9412524266910858\n",
      "accept null hypothesis\n"
     ]
    }
   ],
   "source": [
    "ztest ,pval = stests.ztest(sample_Y, x2=None, value=mean_Y)\n",
    "print(f'p-value: {float(pval)}')\n",
    "if pval<0.05:\n",
    "    print(\"reject null hypothesis\")\n",
    "else:\n",
    "    print(\"accept null hypothesis\")"
   ]
  },
  {
   "cell_type": "markdown",
   "metadata": {},
   "source": [
    "**Проверим гипотезу о разенстве $VarY_{sample}$ и $VarY_{real}$**\n",
    "\n",
    "С ${H_0}: VarY_{sample}=VarY_{real}$ и $H_{a}: VarY_{sample} > VarY_{real}$"
   ]
  },
  {
   "cell_type": "markdown",
   "metadata": {},
   "source": [
    "Проверяя гипотезу будет исходить из $\\frac{(n - 1)S^{2}}{\\sigma_{0}^{2}} \\sim \\chi^{2}_{n-1}$ при большом n\n",
    "________________________________\n",
    "\n",
    "\n",
    "Посчитаем $\\frac{(n - 1)S^{2}}{\\sigma_{0}^{2}}$"
   ]
  },
  {
   "cell_type": "code",
   "execution_count": 66,
   "metadata": {},
   "outputs": [],
   "source": [
    "import scipy"
   ]
  },
  {
   "cell_type": "code",
   "execution_count": 71,
   "metadata": {},
   "outputs": [
    {
     "name": "stdout",
     "output_type": "stream",
     "text": [
      "p-value: 0.5322830533338042\n"
     ]
    }
   ],
   "source": [
    "df = len(sample_X) - 1\n",
    "statistics = df * sample_X.var() / var_X\n",
    "pvalue = 1 - scipy.stats.chi2.cdf(statistics, df)\n",
    "print(f'p-value: {pvalue}')"
   ]
  },
  {
   "cell_type": "markdown",
   "metadata": {},
   "source": [
    "Принимаем нулевую гипотезу"
   ]
  },
  {
   "cell_type": "markdown",
   "metadata": {},
   "source": [
    "**Проверим гипотезу о разенстве $VarX_{sample}$ и $VarX_{real}$**\n",
    "\n",
    "С ${H_0}: VarX_{sample}=VarX_{real}$ и $H_{a}: VarX_{sample} > VarX_{real}$"
   ]
  },
  {
   "cell_type": "code",
   "execution_count": 72,
   "metadata": {},
   "outputs": [
    {
     "name": "stdout",
     "output_type": "stream",
     "text": [
      "p-value: .6758902342348\n"
     ]
    }
   ],
   "source": [
    "df = len(sample_Y) - 1\n",
    "statistics = df * sample_Y.var() / var_Y\n",
    "pvalue = 1 - scipy.stats.chi2.cdf(statistics, df)\n",
    "print(f'p-value: {pvalue}')"
   ]
  },
  {
   "cell_type": "markdown",
   "metadata": {},
   "source": [
    "Принимаем нулевую гипотезу"
   ]
  },
  {
   "cell_type": "code",
   "execution_count": null,
   "metadata": {},
   "outputs": [],
   "source": []
  }
 ],
 "metadata": {
  "kernelspec": {
   "display_name": "Python 3",
   "language": "python",
   "name": "python3"
  },
  "language_info": {
   "codemirror_mode": {
    "name": "ipython",
    "version": 3
   },
   "file_extension": ".py",
   "mimetype": "text/x-python",
   "name": "python",
   "nbconvert_exporter": "python",
   "pygments_lexer": "ipython3",
   "version": "3.6.9"
  }
 },
 "nbformat": 4,
 "nbformat_minor": 4
}
